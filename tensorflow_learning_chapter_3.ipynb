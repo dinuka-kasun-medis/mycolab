{
  "nbformat": 4,
  "nbformat_minor": 0,
  "metadata": {
    "colab": {
      "provenance": [],
      "authorship_tag": "ABX9TyMu3RW2G3mDbRtSmJPYzKca",
      "include_colab_link": true
    },
    "kernelspec": {
      "name": "python3",
      "display_name": "Python 3"
    },
    "language_info": {
      "name": "python"
    }
  },
  "cells": [
    {
      "cell_type": "markdown",
      "metadata": {
        "id": "view-in-github",
        "colab_type": "text"
      },
      "source": [
        "<a href=\"https://colab.research.google.com/github/dinuka-kasun-medis/mycolab/blob/main/tensorflow_learning_chapter_3.ipynb\" target=\"_parent\"><img src=\"https://colab.research.google.com/assets/colab-badge.svg\" alt=\"Open In Colab\"/></a>"
      ]
    },
    {
      "cell_type": "code",
      "execution_count": 2,
      "metadata": {
        "colab": {
          "base_uri": "https://localhost:8080/"
        },
        "id": "CksWd_CDbwfG",
        "outputId": "3097cabe-5df7-4d3c-df12-5b52f3be551e"
      },
      "outputs": [
        {
          "output_type": "stream",
          "name": "stdout",
          "text": [
            "2.13.0\n"
          ]
        }
      ],
      "source": [
        "import tensorflow as tf\n",
        "print(tf.__version__)"
      ]
    },
    {
      "cell_type": "code",
      "source": [
        "import numpy as np\n",
        "import matplotlib.pyplot as plt\n",
        "\n",
        "#create feature\n",
        "X = np.array([-7.0, -4.0, -1.0, 2.0, 5.0, 8.0, 11.0, 14.0])\n",
        "\n",
        "# Create labels\n",
        "y = np.array([3.0, 6.0, 9.0, 12.0, 15.0, 18.0, 21.0, 24.0])\n",
        "\n",
        "# Visualize it\n",
        "plt.scatter(X, y);"
      ],
      "metadata": {
        "colab": {
          "base_uri": "https://localhost:8080/",
          "height": 435
        },
        "id": "JZUPoRW2cYTo",
        "outputId": "3c280ad5-62e1-4547-9f16-9c375d4d6aa5"
      },
      "execution_count": 3,
      "outputs": [
        {
          "output_type": "display_data",
          "data": {
            "text/plain": [
              "<Figure size 640x480 with 1 Axes>"
            ],
            "image/png": "[encoded data removed]"
          },
          "metadata": {}
        }
      ]
    },
    {
      "cell_type": "code",
      "source": [
        "house_info = tf.constant([\"bedroom\", \"bathroom\", \"garage\"])\n",
        "house_price = tf.constant([956780])\n",
        "house_info, house_price"
      ],
      "metadata": {
        "colab": {
          "base_uri": "https://localhost:8080/"
        },
        "id": "H78RapX0cvW7",
        "outputId": "c0ffd0b3-441f-4e3f-91da-cd0cc2e882dc"
      },
      "execution_count": 4,
      "outputs": [
        {
          "output_type": "execute_result",
          "data": {
            "text/plain": [
              "(<tf.Tensor: shape=(3,), dtype=string, numpy=array([b'bedroom', b'bathroom', b'garage'], dtype=object)>,\n",
              " <tf.Tensor: shape=(1,), dtype=int32, numpy=array([956780], dtype=int32)>)"
            ]
          },
          "metadata": {},
          "execution_count": 4
        }
      ]
    },
    {
      "cell_type": "code",
      "source": [
        "house_info.shape"
      ],
      "metadata": {
        "colab": {
          "base_uri": "https://localhost:8080/"
        },
        "id": "hXUzBR8LdSG-",
        "outputId": "9321f08d-ecfb-47ff-edb0-227db6e13ebd"
      },
      "execution_count": 5,
      "outputs": [
        {
          "output_type": "execute_result",
          "data": {
            "text/plain": [
              "TensorShape([3])"
            ]
          },
          "metadata": {},
          "execution_count": 5
        }
      ]
    },
    {
      "cell_type": "code",
      "source": [
        "input_shape = X[0].shape\n",
        "output_shape = y[0].shape\n",
        "\n",
        "input_shape, output_shape"
      ],
      "metadata": {
        "colab": {
          "base_uri": "https://localhost:8080/"
        },
        "id": "i3tyrjrJdbcM",
        "outputId": "4ca58014-5e8a-4815-f4f6-680e77a1a38c"
      },
      "execution_count": 6,
      "outputs": [
        {
          "output_type": "execute_result",
          "data": {
            "text/plain": [
              "((), ())"
            ]
          },
          "metadata": {},
          "execution_count": 6
        }
      ]
    },
    {
      "cell_type": "code",
      "source": [
        "# Create features (using tensors)\n",
        "X = tf.constant([-7.0, -4.0, -1.0, 2.0, 5.0, 8.0, 11.0, 14.0])\n",
        "\n",
        "# Create labels (using tensors)\n",
        "y = tf.constant([3.0, 6.0, 9.0, 12.0, 15.0, 18.0, 21.0, 24.0])\n",
        "\n",
        "# Visualize it\n",
        "plt.scatter(X, y);"
      ],
      "metadata": {
        "colab": {
          "base_uri": "https://localhost:8080/",
          "height": 435
        },
        "id": "0AhcA-3QdsR_",
        "outputId": "fd69f60a-8e15-42f8-f25f-d303ae2fba7b"
      },
      "execution_count": 7,
      "outputs": [
        {
          "output_type": "display_data",
          "data": {
            "text/plain": [
              "<Figure size 640x480 with 1 Axes>"
            ],
            "image/png": "[encoded data removed]"
          },
          "metadata": {}
        }
      ]
    },
    {
      "cell_type": "code",
      "source": [
        "X[0], y[0]"
      ],
      "metadata": {
        "colab": {
          "base_uri": "https://localhost:8080/"
        },
        "id": "_-QL7pBGe8S0",
        "outputId": "1fba02fc-1d39-4efd-91d5-5aee2dc586f6"
      },
      "execution_count": 8,
      "outputs": [
        {
          "output_type": "execute_result",
          "data": {
            "text/plain": [
              "(<tf.Tensor: shape=(), dtype=float32, numpy=-7.0>,\n",
              " <tf.Tensor: shape=(), dtype=float32, numpy=3.0>)"
            ]
          },
          "metadata": {},
          "execution_count": 8
        }
      ]
    },
    {
      "cell_type": "code",
      "source": [
        "input_shape = X[0].shape\n",
        "output_shape = y[0].shape\n",
        "\n",
        "input_shape, output_shape"
      ],
      "metadata": {
        "colab": {
          "base_uri": "https://localhost:8080/"
        },
        "id": "5F0heTI6e9Oi",
        "outputId": "58a53e59-db19-43f8-d250-df3bcc8bf112"
      },
      "execution_count": 9,
      "outputs": [
        {
          "output_type": "execute_result",
          "data": {
            "text/plain": [
              "(TensorShape([]), TensorShape([]))"
            ]
          },
          "metadata": {},
          "execution_count": 9
        }
      ]
    },
    {
      "cell_type": "code",
      "source": [
        "#set random seed\n",
        "tf.random.set_seed(42)\n",
        "\n",
        "#create a model using a Sequntial API\n",
        "model = tf.keras.Sequential([\n",
        "    tf.keras.layers.Dense(1)\n",
        "])\n",
        "#compile the model\n",
        "model.compile(\n",
        "    loss = tf.keras.losses.mae, #mean absolute error\n",
        "    optimizer = tf.keras.optimizers.SGD(), #stochastic gradient descent\n",
        "    metrics = [\"mae\"]\n",
        ")\n",
        "\n",
        "#fit the model\n",
        "model.fit(tf.expand_dims(X, axis=-1), y, epochs=5)\n",
        ""
      ],
      "metadata": {
        "colab": {
          "base_uri": "https://localhost:8080/"
        },
        "id": "x_kzjQ59fEFK",
        "outputId": "479257cc-96f7-4fbc-ae4d-5c5f909e02ae"
      },
      "execution_count": 10,
      "outputs": [
        {
          "output_type": "stream",
          "name": "stdout",
          "text": [
            "Epoch 1/5\n",
            "1/1 [==============================] - 1s 706ms/step - loss: 22.0490 - mae: 22.0490\n",
            "Epoch 2/5\n",
            "1/1 [==============================] - 0s 15ms/step - loss: 21.6559 - mae: 21.6559\n",
            "Epoch 3/5\n",
            "1/1 [==============================] - 0s 16ms/step - loss: 21.2628 - mae: 21.2628\n",
            "Epoch 4/5\n",
            "1/1 [==============================] - 0s 20ms/step - loss: 20.8697 - mae: 20.8697\n",
            "Epoch 5/5\n",
            "1/1 [==============================] - 0s 12ms/step - loss: 20.4937 - mae: 20.4937\n"
          ]
        },
        {
          "output_type": "execute_result",
          "data": {
            "text/plain": [
              "<keras.src.callbacks.History at 0x79aafec8a200>"
            ]
          },
          "metadata": {},
          "execution_count": 10
        }
      ]
    },
    {
      "cell_type": "code",
      "source": [
        "\n",
        "# Check out X and y\n",
        "X, y"
      ],
      "metadata": {
        "colab": {
          "base_uri": "https://localhost:8080/"
        },
        "id": "0L_Opnrmgrpb",
        "outputId": "1c54a091-a780-4b84-8a85-c0cd74232ef6"
      },
      "execution_count": 11,
      "outputs": [
        {
          "output_type": "execute_result",
          "data": {
            "text/plain": [
              "(<tf.Tensor: shape=(8,), dtype=float32, numpy=array([-7., -4., -1.,  2.,  5.,  8., 11., 14.], dtype=float32)>,\n",
              " <tf.Tensor: shape=(8,), dtype=float32, numpy=array([ 3.,  6.,  9., 12., 15., 18., 21., 24.], dtype=float32)>)"
            ]
          },
          "metadata": {},
          "execution_count": 11
        }
      ]
    },
    {
      "cell_type": "code",
      "source": [
        "model.predict([17.0])"
      ],
      "metadata": {
        "colab": {
          "base_uri": "https://localhost:8080/"
        },
        "id": "dBqLq2WU89CZ",
        "outputId": "dcac85ae-27a2-4fb4-c5ea-6ac8d590f495"
      },
      "execution_count": 12,
      "outputs": [
        {
          "output_type": "stream",
          "name": "stdout",
          "text": [
            "1/1 [==============================] - 0s 156ms/step\n"
          ]
        },
        {
          "output_type": "execute_result",
          "data": {
            "text/plain": [
              "array([[-24.203384]], dtype=float32)"
            ]
          },
          "metadata": {},
          "execution_count": 12
        }
      ]
    },
    {
      "cell_type": "code",
      "source": [
        "#set random seed\n",
        "tf.random.set_seed(42)\n",
        "\n",
        "#create the model\n",
        "model = tf.keras.Sequential([\n",
        "    tf.keras.layers.Dense(1)\n",
        "])\n",
        "\n",
        "#compile the model\n",
        "model.compile(\n",
        "    loss = tf.keras.losses.mae,\n",
        "    optimizer = tf.keras.optimizers.SGD(),\n",
        "    metrics = [\"mae\"]\n",
        ")\n",
        "\n",
        "#fit the model\n",
        "model.fit(tf.expand_dims(X, axis=-1), y, epochs = 100)"
      ],
      "metadata": {
        "colab": {
          "base_uri": "https://localhost:8080/"
        },
        "id": "SURnV6lC8_fI",
        "outputId": "8fca98e5-36dd-4f4f-f1cb-7f7a06a15c15"
      },
      "execution_count": 13,
      "outputs": [
        {
          "output_type": "stream",
          "name": "stdout",
          "text": [
            "Epoch 1/100\n",
            "1/1 [==============================] - 0s 497ms/step - loss: 14.3764 - mae: 14.3764\n",
            "Epoch 2/100\n",
            "1/1 [==============================] - 0s 14ms/step - loss: 14.2439 - mae: 14.2439\n",
            "Epoch 3/100\n",
            "1/1 [==============================] - 0s 14ms/step - loss: 14.1114 - mae: 14.1114\n",
            "Epoch 4/100\n",
            "1/1 [==============================] - 0s 14ms/step - loss: 13.9789 - mae: 13.9789\n",
            "Epoch 5/100\n",
            "1/1 [==============================] - 0s 15ms/step - loss: 13.8464 - mae: 13.8464\n",
            "Epoch 6/100\n",
            "1/1 [==============================] - 0s 16ms/step - loss: 13.7139 - mae: 13.7139\n",
            "Epoch 7/100\n",
            "1/1 [==============================] - 0s 20ms/step - loss: 13.5814 - mae: 13.5814\n",
            "Epoch 8/100\n",
            "1/1 [==============================] - 0s 15ms/step - loss: 13.4489 - mae: 13.4489\n",
            "Epoch 9/100\n",
            "1/1 [==============================] - 0s 11ms/step - loss: 13.3164 - mae: 13.3164\n",
            "Epoch 10/100\n",
            "1/1 [==============================] - 0s 17ms/step - loss: 13.1839 - mae: 13.1839\n",
            "Epoch 11/100\n",
            "1/1 [==============================] - 0s 13ms/step - loss: 13.0514 - mae: 13.0514\n",
            "Epoch 12/100\n",
            "1/1 [==============================] - 0s 15ms/step - loss: 12.9189 - mae: 12.9189\n",
            "Epoch 13/100\n",
            "1/1 [==============================] - 0s 17ms/step - loss: 12.7864 - mae: 12.7864\n",
            "Epoch 14/100\n",
            "1/1 [==============================] - 0s 12ms/step - loss: 12.6539 - mae: 12.6539\n",
            "Epoch 15/100\n",
            "1/1 [==============================] - 0s 12ms/step - loss: 12.5214 - mae: 12.5214\n",
            "Epoch 16/100\n",
            "1/1 [==============================] - 0s 14ms/step - loss: 12.3889 - mae: 12.3889\n",
            "Epoch 17/100\n",
            "1/1 [==============================] - 0s 17ms/step - loss: 12.2564 - mae: 12.2564\n",
            "Epoch 18/100\n",
            "1/1 [==============================] - 0s 20ms/step - loss: 12.1239 - mae: 12.1239\n",
            "Epoch 19/100\n",
            "1/1 [==============================] - 0s 10ms/step - loss: 11.9914 - mae: 11.9914\n",
            "Epoch 20/100\n",
            "1/1 [==============================] - 0s 15ms/step - loss: 11.8589 - mae: 11.8589\n",
            "Epoch 21/100\n",
            "1/1 [==============================] - 0s 16ms/step - loss: 11.7264 - mae: 11.7264\n",
            "Epoch 22/100\n",
            "1/1 [==============================] - 0s 20ms/step - loss: 11.5939 - mae: 11.5939\n",
            "Epoch 23/100\n",
            "1/1 [==============================] - 0s 13ms/step - loss: 11.4614 - mae: 11.4614\n",
            "Epoch 24/100\n",
            "1/1 [==============================] - 0s 16ms/step - loss: 11.3289 - mae: 11.3289\n",
            "Epoch 25/100\n",
            "1/1 [==============================] - 0s 15ms/step - loss: 11.1964 - mae: 11.1964\n",
            "Epoch 26/100\n",
            "1/1 [==============================] - 0s 13ms/step - loss: 11.0639 - mae: 11.0639\n",
            "Epoch 27/100\n",
            "1/1 [==============================] - 0s 14ms/step - loss: 10.9314 - mae: 10.9314\n",
            "Epoch 28/100\n",
            "1/1 [==============================] - 0s 12ms/step - loss: 10.7989 - mae: 10.7989\n",
            "Epoch 29/100\n",
            "1/1 [==============================] - 0s 12ms/step - loss: 10.6664 - mae: 10.6664\n",
            "Epoch 30/100\n",
            "1/1 [==============================] - 0s 13ms/step - loss: 10.5339 - mae: 10.5339\n",
            "Epoch 31/100\n",
            "1/1 [==============================] - 0s 19ms/step - loss: 10.4014 - mae: 10.4014\n",
            "Epoch 32/100\n",
            "1/1 [==============================] - 0s 12ms/step - loss: 10.2689 - mae: 10.2689\n",
            "Epoch 33/100\n",
            "1/1 [==============================] - 0s 11ms/step - loss: 10.1364 - mae: 10.1364\n",
            "Epoch 34/100\n",
            "1/1 [==============================] - 0s 14ms/step - loss: 10.0039 - mae: 10.0039\n",
            "Epoch 35/100\n",
            "1/1 [==============================] - 0s 12ms/step - loss: 9.8714 - mae: 9.8714\n",
            "Epoch 36/100\n",
            "1/1 [==============================] - 0s 14ms/step - loss: 9.7389 - mae: 9.7389\n",
            "Epoch 37/100\n",
            "1/1 [==============================] - 0s 12ms/step - loss: 9.6064 - mae: 9.6064\n",
            "Epoch 38/100\n",
            "1/1 [==============================] - 0s 13ms/step - loss: 9.4739 - mae: 9.4739\n",
            "Epoch 39/100\n",
            "1/1 [==============================] - 0s 12ms/step - loss: 9.3414 - mae: 9.3414\n",
            "Epoch 40/100\n",
            "1/1 [==============================] - 0s 14ms/step - loss: 9.2089 - mae: 9.2089\n",
            "Epoch 41/100\n",
            "1/1 [==============================] - 0s 12ms/step - loss: 9.0764 - mae: 9.0764\n",
            "Epoch 42/100\n",
            "1/1 [==============================] - 0s 12ms/step - loss: 8.9439 - mae: 8.9439\n",
            "Epoch 43/100\n",
            "1/1 [==============================] - 0s 16ms/step - loss: 8.8114 - mae: 8.8114\n",
            "Epoch 44/100\n",
            "1/1 [==============================] - 0s 12ms/step - loss: 8.6789 - mae: 8.6789\n",
            "Epoch 45/100\n",
            "1/1 [==============================] - 0s 12ms/step - loss: 8.5464 - mae: 8.5464\n",
            "Epoch 46/100\n",
            "1/1 [==============================] - 0s 12ms/step - loss: 8.4139 - mae: 8.4139\n",
            "Epoch 47/100\n",
            "1/1 [==============================] - 0s 12ms/step - loss: 8.2814 - mae: 8.2814\n",
            "Epoch 48/100\n",
            "1/1 [==============================] - 0s 24ms/step - loss: 8.1489 - mae: 8.1489\n",
            "Epoch 49/100\n",
            "1/1 [==============================] - 0s 13ms/step - loss: 8.0164 - mae: 8.0164\n",
            "Epoch 50/100\n",
            "1/1 [==============================] - 0s 12ms/step - loss: 7.8839 - mae: 7.8839\n",
            "Epoch 51/100\n",
            "1/1 [==============================] - 0s 15ms/step - loss: 7.7514 - mae: 7.7514\n",
            "Epoch 52/100\n",
            "1/1 [==============================] - 0s 13ms/step - loss: 7.6189 - mae: 7.6189\n",
            "Epoch 53/100\n",
            "1/1 [==============================] - 0s 15ms/step - loss: 7.4864 - mae: 7.4864\n",
            "Epoch 54/100\n",
            "1/1 [==============================] - 0s 13ms/step - loss: 7.3539 - mae: 7.3539\n",
            "Epoch 55/100\n",
            "1/1 [==============================] - 0s 12ms/step - loss: 7.2214 - mae: 7.2214\n",
            "Epoch 56/100\n",
            "1/1 [==============================] - 0s 13ms/step - loss: 7.0889 - mae: 7.0889\n",
            "Epoch 57/100\n",
            "1/1 [==============================] - 0s 14ms/step - loss: 7.0800 - mae: 7.0800\n",
            "Epoch 58/100\n",
            "1/1 [==============================] - 0s 18ms/step - loss: 7.0744 - mae: 7.0744\n",
            "Epoch 59/100\n",
            "1/1 [==============================] - 0s 13ms/step - loss: 7.0688 - mae: 7.0688\n",
            "Epoch 60/100\n",
            "1/1 [==============================] - 0s 16ms/step - loss: 7.0631 - mae: 7.0631\n",
            "Epoch 61/100\n",
            "1/1 [==============================] - 0s 13ms/step - loss: 7.0575 - mae: 7.0575\n",
            "Epoch 62/100\n",
            "1/1 [==============================] - 0s 13ms/step - loss: 7.0519 - mae: 7.0519\n",
            "Epoch 63/100\n",
            "1/1 [==============================] - 0s 14ms/step - loss: 7.0463 - mae: 7.0463\n",
            "Epoch 64/100\n",
            "1/1 [==============================] - 0s 14ms/step - loss: 7.0406 - mae: 7.0406\n",
            "Epoch 65/100\n",
            "1/1 [==============================] - 0s 15ms/step - loss: 7.0350 - mae: 7.0350\n",
            "Epoch 66/100\n",
            "1/1 [==============================] - 0s 15ms/step - loss: 7.0294 - mae: 7.0294\n",
            "Epoch 67/100\n",
            "1/1 [==============================] - 0s 16ms/step - loss: 7.0238 - mae: 7.0238\n",
            "Epoch 68/100\n",
            "1/1 [==============================] - 0s 15ms/step - loss: 7.0181 - mae: 7.0181\n",
            "Epoch 69/100\n",
            "1/1 [==============================] - 0s 14ms/step - loss: 7.0125 - mae: 7.0125\n",
            "Epoch 70/100\n",
            "1/1 [==============================] - 0s 11ms/step - loss: 7.0069 - mae: 7.0069\n",
            "Epoch 71/100\n",
            "1/1 [==============================] - 0s 17ms/step - loss: 7.0013 - mae: 7.0013\n",
            "Epoch 72/100\n",
            "1/1 [==============================] - 0s 15ms/step - loss: 6.9956 - mae: 6.9956\n",
            "Epoch 73/100\n",
            "1/1 [==============================] - 0s 14ms/step - loss: 6.9900 - mae: 6.9900\n",
            "Epoch 74/100\n",
            "1/1 [==============================] - 0s 10ms/step - loss: 6.9844 - mae: 6.9844\n",
            "Epoch 75/100\n",
            "1/1 [==============================] - 0s 10ms/step - loss: 6.9788 - mae: 6.9788\n",
            "Epoch 76/100\n",
            "1/1 [==============================] - 0s 10ms/step - loss: 6.9731 - mae: 6.9731\n",
            "Epoch 77/100\n",
            "1/1 [==============================] - 0s 11ms/step - loss: 6.9675 - mae: 6.9675\n",
            "Epoch 78/100\n",
            "1/1 [==============================] - 0s 16ms/step - loss: 6.9619 - mae: 6.9619\n",
            "Epoch 79/100\n",
            "1/1 [==============================] - 0s 11ms/step - loss: 6.9563 - mae: 6.9563\n",
            "Epoch 80/100\n",
            "1/1 [==============================] - 0s 11ms/step - loss: 6.9506 - mae: 6.9506\n",
            "Epoch 81/100\n",
            "1/1 [==============================] - 0s 16ms/step - loss: 6.9450 - mae: 6.9450\n",
            "Epoch 82/100\n",
            "1/1 [==============================] - 0s 14ms/step - loss: 6.9394 - mae: 6.9394\n",
            "Epoch 83/100\n",
            "1/1 [==============================] - 0s 12ms/step - loss: 6.9338 - mae: 6.9338\n",
            "Epoch 84/100\n",
            "1/1 [==============================] - 0s 11ms/step - loss: 6.9281 - mae: 6.9281\n",
            "Epoch 85/100\n",
            "1/1 [==============================] - 0s 13ms/step - loss: 6.9225 - mae: 6.9225\n",
            "Epoch 86/100\n",
            "1/1 [==============================] - 0s 10ms/step - loss: 6.9169 - mae: 6.9169\n",
            "Epoch 87/100\n",
            "1/1 [==============================] - 0s 12ms/step - loss: 6.9113 - mae: 6.9113\n",
            "Epoch 88/100\n",
            "1/1 [==============================] - 0s 10ms/step - loss: 6.9056 - mae: 6.9056\n",
            "Epoch 89/100\n",
            "1/1 [==============================] - 0s 12ms/step - loss: 6.9000 - mae: 6.9000\n",
            "Epoch 90/100\n",
            "1/1 [==============================] - 0s 11ms/step - loss: 6.8944 - mae: 6.8944\n",
            "Epoch 91/100\n",
            "1/1 [==============================] - 0s 10ms/step - loss: 6.8888 - mae: 6.8888\n",
            "Epoch 92/100\n",
            "1/1 [==============================] - 0s 11ms/step - loss: 6.8831 - mae: 6.8831\n",
            "Epoch 93/100\n",
            "1/1 [==============================] - 0s 12ms/step - loss: 6.8775 - mae: 6.8775\n",
            "Epoch 94/100\n",
            "1/1 [==============================] - 0s 12ms/step - loss: 6.8719 - mae: 6.8719\n",
            "Epoch 95/100\n",
            "1/1 [==============================] - 0s 12ms/step - loss: 6.8663 - mae: 6.8663\n",
            "Epoch 96/100\n",
            "1/1 [==============================] - 0s 12ms/step - loss: 6.8606 - mae: 6.8606\n",
            "Epoch 97/100\n",
            "1/1 [==============================] - 0s 10ms/step - loss: 6.8550 - mae: 6.8550\n",
            "Epoch 98/100\n",
            "1/1 [==============================] - 0s 10ms/step - loss: 6.8494 - mae: 6.8494\n",
            "Epoch 99/100\n",
            "1/1 [==============================] - 0s 15ms/step - loss: 6.8438 - mae: 6.8438\n",
            "Epoch 100/100\n",
            "1/1 [==============================] - 0s 20ms/step - loss: 6.8381 - mae: 6.8381\n"
          ]
        },
        {
          "output_type": "execute_result",
          "data": {
            "text/plain": [
              "<keras.src.callbacks.History at 0x79aafc03a7d0>"
            ]
          },
          "metadata": {},
          "execution_count": 13
        }
      ]
    },
    {
      "cell_type": "code",
      "source": [
        "X, y"
      ],
      "metadata": {
        "colab": {
          "base_uri": "https://localhost:8080/"
        },
        "id": "qJ3JKIi5A7bR",
        "outputId": "c7003e3b-01fe-4fbe-852f-5f6f09cf3361"
      },
      "execution_count": 14,
      "outputs": [
        {
          "output_type": "execute_result",
          "data": {
            "text/plain": [
              "(<tf.Tensor: shape=(8,), dtype=float32, numpy=array([-7., -4., -1.,  2.,  5.,  8., 11., 14.], dtype=float32)>,\n",
              " <tf.Tensor: shape=(8,), dtype=float32, numpy=array([ 3.,  6.,  9., 12., 15., 18., 21., 24.], dtype=float32)>)"
            ]
          },
          "metadata": {},
          "execution_count": 14
        }
      ]
    },
    {
      "cell_type": "code",
      "source": [
        "model.predict([17.0])"
      ],
      "metadata": {
        "colab": {
          "base_uri": "https://localhost:8080/"
        },
        "id": "FXoWqk9lB8tX",
        "outputId": "b6e8d78a-4f46-4557-dee6-cf286fd49cb2"
      },
      "execution_count": 15,
      "outputs": [
        {
          "output_type": "stream",
          "name": "stdout",
          "text": [
            "1/1 [==============================] - 0s 79ms/step\n"
          ]
        },
        {
          "output_type": "execute_result",
          "data": {
            "text/plain": [
              "array([[29.953035]], dtype=float32)"
            ]
          },
          "metadata": {},
          "execution_count": 15
        }
      ]
    },
    {
      "cell_type": "code",
      "source": [
        "#make a bigger data set\n",
        "X = np.arange(-100, 100, 4)\n",
        "X"
      ],
      "metadata": {
        "colab": {
          "base_uri": "https://localhost:8080/"
        },
        "id": "5DoUmVhCCBdB",
        "outputId": "c79a21d0-cbb1-4665-f926-e6fec013bc19"
      },
      "execution_count": 16,
      "outputs": [
        {
          "output_type": "execute_result",
          "data": {
            "text/plain": [
              "array([-100,  -96,  -92,  -88,  -84,  -80,  -76,  -72,  -68,  -64,  -60,\n",
              "        -56,  -52,  -48,  -44,  -40,  -36,  -32,  -28,  -24,  -20,  -16,\n",
              "        -12,   -8,   -4,    0,    4,    8,   12,   16,   20,   24,   28,\n",
              "         32,   36,   40,   44,   48,   52,   56,   60,   64,   68,   72,\n",
              "         76,   80,   84,   88,   92,   96])"
            ]
          },
          "metadata": {},
          "execution_count": 16
        }
      ]
    },
    {
      "cell_type": "code",
      "source": [
        "#make labels for the dataset\n",
        "y = np.arange(-90, 110, 4)\n",
        "y"
      ],
      "metadata": {
        "colab": {
          "base_uri": "https://localhost:8080/"
        },
        "id": "ZcMdPAIMDvMe",
        "outputId": "e3c8ca3d-8309-4f29-85f1-df6171e0d4dd"
      },
      "execution_count": 17,
      "outputs": [
        {
          "output_type": "execute_result",
          "data": {
            "text/plain": [
              "array([-90, -86, -82, -78, -74, -70, -66, -62, -58, -54, -50, -46, -42,\n",
              "       -38, -34, -30, -26, -22, -18, -14, -10,  -6,  -2,   2,   6,  10,\n",
              "        14,  18,  22,  26,  30,  34,  38,  42,  46,  50,  54,  58,  62,\n",
              "        66,  70,  74,  78,  82,  86,  90,  94,  98, 102, 106])"
            ]
          },
          "metadata": {},
          "execution_count": 17
        }
      ]
    },
    {
      "cell_type": "code",
      "source": [
        "#Since the label: y = X + 10 then,\n",
        "y = X + 10\n",
        "y"
      ],
      "metadata": {
        "colab": {
          "base_uri": "https://localhost:8080/"
        },
        "id": "uCDL0hrYEFOJ",
        "outputId": "af17846f-3491-4215-a420-c4a127481d82"
      },
      "execution_count": 18,
      "outputs": [
        {
          "output_type": "execute_result",
          "data": {
            "text/plain": [
              "array([-90, -86, -82, -78, -74, -70, -66, -62, -58, -54, -50, -46, -42,\n",
              "       -38, -34, -30, -26, -22, -18, -14, -10,  -6,  -2,   2,   6,  10,\n",
              "        14,  18,  22,  26,  30,  34,  38,  42,  46,  50,  54,  58,  62,\n",
              "        66,  70,  74,  78,  82,  86,  90,  94,  98, 102, 106])"
            ]
          },
          "metadata": {},
          "execution_count": 18
        }
      ]
    },
    {
      "cell_type": "markdown",
      "source": [
        "**Split data into training/Test set**\n",
        "\n",
        "---\n",
        "\n",
        "* **Training set** - the model learns from this data, which is typically 70-80% of the total data available (like the course materials you study during the semester).\n",
        "* **Validation set** - the model gets tuned on this data, which is typically 10-15% of the total data available (like the practice exam you take before the final exam).\n",
        "* **Test set** - the model gets evaluated on this data to test what it has learned, it's typically 10-15% of the total data available (like the final exam you take at the end of the semester)."
      ],
      "metadata": {
        "id": "0hmqtgsJFdT5"
      }
    },
    {
      "cell_type": "code",
      "source": [
        "len(X)"
      ],
      "metadata": {
        "colab": {
          "base_uri": "https://localhost:8080/"
        },
        "id": "J20wMWMTFrln",
        "outputId": "637a4ee3-a135-4812-9c4d-b15c1e944737"
      },
      "execution_count": 19,
      "outputs": [
        {
          "output_type": "execute_result",
          "data": {
            "text/plain": [
              "50"
            ]
          },
          "metadata": {},
          "execution_count": 19
        }
      ]
    },
    {
      "cell_type": "code",
      "source": [
        "X_train = X[:40] #first 40 examples --> 80% of test data\n",
        "y_train = y[:40]\n",
        "\n",
        "X_test = X[40:] #last 10 examples --> 20% of test data\n",
        "y_test = y[40:]\n",
        "\n",
        "len(X_train), len(X_test)"
      ],
      "metadata": {
        "colab": {
          "base_uri": "https://localhost:8080/"
        },
        "id": "WDXUTSCIG014",
        "outputId": "787a9767-5a35-4256-8f58-0d455af4bcdd"
      },
      "execution_count": 20,
      "outputs": [
        {
          "output_type": "execute_result",
          "data": {
            "text/plain": [
              "(40, 10)"
            ]
          },
          "metadata": {},
          "execution_count": 20
        }
      ]
    },
    {
      "cell_type": "code",
      "source": [
        "plt.figure(figsize = (10,7))\n",
        "\n",
        "plt.scatter(X_train, y_train, c='b', label='TRaining data') #plot training data set in blue\n",
        "plt.scatter(X_test, y_test, c='g', label='Testing data') #plot test data set in green\n",
        "\n",
        "plt.legend();#show the legend"
      ],
      "metadata": {
        "colab": {
          "base_uri": "https://localhost:8080/",
          "height": 599
        },
        "id": "0K2j1tKpHWoG",
        "outputId": "63c8f051-730c-4e1c-dd7a-3111b884c3d2"
      },
      "execution_count": 21,
      "outputs": [
        {
          "output_type": "display_data",
          "data": {
            "text/plain": [
              "<Figure size 1000x700 with 1 Axes>"
            ],
            "image/png": "[encoded data removed]"
          },
          "metadata": {}
        }
      ]
    },
    {
      "cell_type": "code",
      "source": [
        "model.summary()"
      ],
      "metadata": {
        "colab": {
          "base_uri": "https://localhost:8080/"
        },
        "id": "T_xHdq1uIOc9",
        "outputId": "ea72e5c3-0e83-4d70-8690-88946b912306"
      },
      "execution_count": 22,
      "outputs": [
        {
          "output_type": "stream",
          "name": "stdout",
          "text": [
            "Model: \"sequential_1\"\n",
            "_________________________________________________________________\n",
            " Layer (type)                Output Shape              Param #   \n",
            "=================================================================\n",
            " dense_1 (Dense)             (None, 1)                 2         \n",
            "                                                                 \n",
            "=================================================================\n",
            "Total params: 2 (8.00 Byte)\n",
            "Trainable params: 2 (8.00 Byte)\n",
            "Non-trainable params: 0 (0.00 Byte)\n",
            "_________________________________________________________________\n"
          ]
        }
      ]
    },
    {
      "cell_type": "code",
      "source": [
        "from tensorflow.keras.utils import plot_model\n",
        "plot_model(model, show_shapes = True)"
      ],
      "metadata": {
        "colab": {
          "base_uri": "https://localhost:8080/",
          "height": 201
        },
        "id": "xD6NTdN4OtA6",
        "outputId": "3217fa4a-7530-4f00-92b4-12830167efcd"
      },
      "execution_count": 23,
      "outputs": [
        {
          "output_type": "execute_result",
          "data": {
            "image/png": "[encoded data removed]",
            "text/plain": [
              "<IPython.core.display.Image object>"
            ]
          },
          "metadata": {},
          "execution_count": 23
        }
      ]
    },
    {
      "cell_type": "code",
      "source": [
        "y_preds = model.predict(X_test)"
      ],
      "metadata": {
        "colab": {
          "base_uri": "https://localhost:8080/"
        },
        "id": "gADli42UPHcb",
        "outputId": "4f310ca0-9061-4889-b089-9e0f99817523"
      },
      "execution_count": 24,
      "outputs": [
        {
          "output_type": "stream",
          "name": "stdout",
          "text": [
            "1/1 [==============================] - 0s 63ms/step\n"
          ]
        }
      ]
    },
    {
      "cell_type": "code",
      "source": [
        "y_preds"
      ],
      "metadata": {
        "colab": {
          "base_uri": "https://localhost:8080/"
        },
        "id": "MkbTuzfTPbiF",
        "outputId": "c5cff0ad-da9e-49cb-d8c9-fbdf77754022"
      },
      "execution_count": 25,
      "outputs": [
        {
          "output_type": "execute_result",
          "data": {
            "text/plain": [
              "array([[103.465416],\n",
              "       [110.30378 ],\n",
              "       [117.14214 ],\n",
              "       [123.9805  ],\n",
              "       [130.81886 ],\n",
              "       [137.65723 ],\n",
              "       [144.49559 ],\n",
              "       [151.33395 ],\n",
              "       [158.1723  ],\n",
              "       [165.01067 ]], dtype=float32)"
            ]
          },
          "metadata": {},
          "execution_count": 25
        }
      ]
    },
    {
      "cell_type": "code",
      "source": [
        "def plot_predictions(train_data=X_train,\n",
        "                     train_labels=y_train,\n",
        "                     test_data=X_test,\n",
        "                     test_labels=y_test,\n",
        "                     predictions=y_preds):\n",
        "  \"\"\"\n",
        "  Plots training data, test data and compares predictions.\n",
        "  \"\"\"\n",
        "  plt.figure(figsize=(10, 7))\n",
        "  # Plot training data in blue\n",
        "  plt.scatter(train_data, train_labels, c=\"b\", label=\"Training data\")\n",
        "  # Plot test data in green\n",
        "  plt.scatter(test_data, test_labels, c=\"g\", label=\"Testing data\")\n",
        "  # Plot the predictions in red (predictions were made on the test data)\n",
        "  plt.scatter(test_data, predictions, c=\"r\", label=\"Predictions\")\n",
        "  # Show the legend\n",
        "  plt.legend();\n",
        ""
      ],
      "metadata": {
        "id": "89akpTQjPikO"
      },
      "execution_count": 26,
      "outputs": []
    },
    {
      "cell_type": "code",
      "source": [
        "\n",
        "plot_predictions(train_data=X_train,\n",
        "                 train_labels=y_train,\n",
        "                 test_data=X_test,\n",
        "                 test_labels=y_test,\n",
        "                 predictions=y_preds)"
      ],
      "metadata": {
        "colab": {
          "base_uri": "https://localhost:8080/",
          "height": 599
        },
        "id": "YcGtKlEhPtev",
        "outputId": "ab8dea3c-3ce7-4142-c2a1-2cdde4cdcbea"
      },
      "execution_count": 27,
      "outputs": [
        {
          "output_type": "display_data",
          "data": {
            "text/plain": [
              "<Figure size 1000x700 with 1 Axes>"
            ],
            "image/png": "[encoded data removed]"
          },
          "metadata": {}
        }
      ]
    },
    {
      "cell_type": "code",
      "source": [
        "#evaluate the model on the test set\n",
        "model.evaluate(X_test, y_test)"
      ],
      "metadata": {
        "colab": {
          "base_uri": "https://localhost:8080/"
        },
        "id": "gKwNMvudMSCA",
        "outputId": "048487ff-f1c0-477c-a37f-b021eecfbed5"
      },
      "execution_count": 28,
      "outputs": [
        {
          "output_type": "stream",
          "name": "stdout",
          "text": [
            "1/1 [==============================] - 0s 258ms/step - loss: 46.2380 - mae: 46.2380\n"
          ]
        },
        {
          "output_type": "execute_result",
          "data": {
            "text/plain": [
              "[46.23804473876953, 46.23804473876953]"
            ]
          },
          "metadata": {},
          "execution_count": 28
        }
      ]
    },
    {
      "cell_type": "code",
      "source": [
        "#mean absolute error\n",
        "mae = tf.metrics.mean_absolute_error(y_true=y_test,\n",
        "                                     y_pred=y_preds)\n",
        "mae"
      ],
      "metadata": {
        "colab": {
          "base_uri": "https://localhost:8080/"
        },
        "id": "xeBcfiQ9McAv",
        "outputId": "3a4694f5-a6a7-4af2-838d-7fd5d8712c82"
      },
      "execution_count": 31,
      "outputs": [
        {
          "output_type": "execute_result",
          "data": {
            "text/plain": [
              "<tf.Tensor: shape=(10,), dtype=float32, numpy=\n",
              "array([15.972333, 22.30378 , 29.142145, 35.9805  , 42.818863, 49.657227,\n",
              "       56.495594, 63.333954, 70.1723  , 77.010666], dtype=float32)>"
            ]
          },
          "metadata": {},
          "execution_count": 31
        }
      ]
    },
    {
      "cell_type": "code",
      "source": [
        "y_test\n"
      ],
      "metadata": {
        "colab": {
          "base_uri": "https://localhost:8080/"
        },
        "id": "dNxvIFbHOQo4",
        "outputId": "50a54610-b6ac-402b-b3ae-106e2e8b4248"
      },
      "execution_count": 32,
      "outputs": [
        {
          "output_type": "execute_result",
          "data": {
            "text/plain": [
              "array([ 70,  74,  78,  82,  86,  90,  94,  98, 102, 106])"
            ]
          },
          "metadata": {},
          "execution_count": 32
        }
      ]
    },
    {
      "cell_type": "code",
      "source": [
        "y_preds"
      ],
      "metadata": {
        "colab": {
          "base_uri": "https://localhost:8080/"
        },
        "id": "4JHQc6t-Ojus",
        "outputId": "db26976e-27e3-41e4-9aaf-2b46fb50cc95"
      },
      "execution_count": 33,
      "outputs": [
        {
          "output_type": "execute_result",
          "data": {
            "text/plain": [
              "array([[103.465416],\n",
              "       [110.30378 ],\n",
              "       [117.14214 ],\n",
              "       [123.9805  ],\n",
              "       [130.81886 ],\n",
              "       [137.65723 ],\n",
              "       [144.49559 ],\n",
              "       [151.33395 ],\n",
              "       [158.1723  ],\n",
              "       [165.01067 ]], dtype=float32)"
            ]
          },
          "metadata": {},
          "execution_count": 33
        }
      ]
    },
    {
      "cell_type": "code",
      "source": [
        "y_preds.shape"
      ],
      "metadata": {
        "colab": {
          "base_uri": "https://localhost:8080/"
        },
        "id": "xD8fT_gtOpeo",
        "outputId": "182e7c18-585e-4f72-8553-6afec9d93a6c"
      },
      "execution_count": 35,
      "outputs": [
        {
          "output_type": "execute_result",
          "data": {
            "text/plain": [
              "(10, 1)"
            ]
          },
          "metadata": {},
          "execution_count": 35
        }
      ]
    },
    {
      "cell_type": "code",
      "source": [
        "y_preds.squeeze().shape"
      ],
      "metadata": {
        "colab": {
          "base_uri": "https://localhost:8080/"
        },
        "id": "ryJAnksyOzc1",
        "outputId": "51900e2a-aec2-4662-f8ea-2352ffe629e2"
      },
      "execution_count": 38,
      "outputs": [
        {
          "output_type": "execute_result",
          "data": {
            "text/plain": [
              "(10,)"
            ]
          },
          "metadata": {},
          "execution_count": 38
        }
      ]
    },
    {
      "cell_type": "markdown",
      "source": [
        "1. model_1 - same as original model, 1 layer, trained for 100 epochs.\n",
        "2. model_2 - 2 layers, trained for 100 epochs.\n",
        "3. model_3 - 2 layers, trained for 500 epochs."
      ],
      "metadata": {
        "id": "kvKal-biUiQJ"
      }
    },
    {
      "cell_type": "code",
      "source": [
        "#model_1\n",
        "\n",
        "#set_seed\n",
        "tf.random.set_seed(42)\n",
        "\n",
        "#define model\n",
        "model_1 = tf.keras.Sequential([\n",
        "    tf.keras.layers.Dense(1)\n",
        "])\n",
        "\n",
        "#compile the model\n",
        "model_1.compile(loss=tf.keras.losses.mae,\n",
        "                optimizer=tf.keras.optimizers.SGD(),\n",
        "                metrics=(['mae'])\n",
        "                )\n",
        "\n",
        "#fit the model\n",
        "model_1.fit(tf.expand_dims(X_train, axis=-1), y_train, epochs=100)"
      ],
      "metadata": {
        "colab": {
          "base_uri": "https://localhost:8080/"
        },
        "id": "FQnVnEPoUxHd",
        "outputId": "18e81236-b58c-4842-8e45-c931613e2a1d"
      },
      "execution_count": 42,
      "outputs": [
        {
          "output_type": "stream",
          "name": "stdout",
          "text": [
            "Epoch 1/100\n",
            "2/2 [==============================] - 1s 39ms/step - loss: 8.4999 - mae: 8.4999\n",
            "Epoch 2/100\n",
            "2/2 [==============================] - 0s 27ms/step - loss: 10.3081 - mae: 10.3081\n",
            "Epoch 3/100\n",
            "2/2 [==============================] - 0s 15ms/step - loss: 10.6700 - mae: 10.6700\n",
            "Epoch 4/100\n",
            "2/2 [==============================] - 0s 25ms/step - loss: 9.5568 - mae: 9.5568\n",
            "Epoch 5/100\n",
            "2/2 [==============================] - 0s 23ms/step - loss: 10.4656 - mae: 10.4656\n",
            "Epoch 6/100\n",
            "2/2 [==============================] - 0s 32ms/step - loss: 9.6917 - mae: 9.6917\n",
            "Epoch 7/100\n",
            "2/2 [==============================] - 0s 25ms/step - loss: 8.7882 - mae: 8.7882\n",
            "Epoch 8/100\n",
            "2/2 [==============================] - 0s 25ms/step - loss: 9.0578 - mae: 9.0578\n",
            "Epoch 9/100\n",
            "2/2 [==============================] - 0s 21ms/step - loss: 19.3063 - mae: 19.3063\n",
            "Epoch 10/100\n",
            "2/2 [==============================] - 0s 17ms/step - loss: 10.4192 - mae: 10.4192\n",
            "Epoch 11/100\n",
            "2/2 [==============================] - 0s 21ms/step - loss: 8.5137 - mae: 8.5137\n",
            "Epoch 12/100\n",
            "2/2 [==============================] - 0s 9ms/step - loss: 10.9123 - mae: 10.9123\n",
            "Epoch 13/100\n",
            "2/2 [==============================] - 0s 12ms/step - loss: 7.5546 - mae: 7.5546\n",
            "Epoch 14/100\n",
            "2/2 [==============================] - 0s 13ms/step - loss: 9.9806 - mae: 9.9806\n",
            "Epoch 15/100\n",
            "2/2 [==============================] - 0s 15ms/step - loss: 9.3825 - mae: 9.3825\n",
            "Epoch 16/100\n",
            "2/2 [==============================] - 0s 12ms/step - loss: 8.5554 - mae: 8.5554\n",
            "Epoch 17/100\n",
            "2/2 [==============================] - 0s 17ms/step - loss: 13.6814 - mae: 13.6814\n",
            "Epoch 18/100\n",
            "2/2 [==============================] - 0s 12ms/step - loss: 11.5234 - mae: 11.5234\n",
            "Epoch 19/100\n",
            "2/2 [==============================] - 0s 18ms/step - loss: 17.8250 - mae: 17.8250\n",
            "Epoch 20/100\n",
            "2/2 [==============================] - 0s 18ms/step - loss: 14.9603 - mae: 14.9603\n",
            "Epoch 21/100\n",
            "2/2 [==============================] - 0s 17ms/step - loss: 10.8388 - mae: 10.8388\n",
            "Epoch 22/100\n",
            "2/2 [==============================] - 0s 13ms/step - loss: 8.5895 - mae: 8.5895\n",
            "Epoch 23/100\n",
            "2/2 [==============================] - 0s 21ms/step - loss: 9.6986 - mae: 9.6986\n",
            "Epoch 24/100\n",
            "2/2 [==============================] - 0s 16ms/step - loss: 10.9526 - mae: 10.9526\n",
            "Epoch 25/100\n",
            "2/2 [==============================] - 0s 14ms/step - loss: 9.1523 - mae: 9.1523\n",
            "Epoch 26/100\n",
            "2/2 [==============================] - 0s 16ms/step - loss: 13.1912 - mae: 13.1912\n",
            "Epoch 27/100\n",
            "2/2 [==============================] - 0s 20ms/step - loss: 10.6595 - mae: 10.6595\n",
            "Epoch 28/100\n",
            "2/2 [==============================] - 0s 18ms/step - loss: 12.8823 - mae: 12.8823\n",
            "Epoch 29/100\n",
            "2/2 [==============================] - 0s 24ms/step - loss: 9.5008 - mae: 9.5008\n",
            "Epoch 30/100\n",
            "2/2 [==============================] - 0s 20ms/step - loss: 16.4120 - mae: 16.4120\n",
            "Epoch 31/100\n",
            "2/2 [==============================] - 0s 30ms/step - loss: 23.5705 - mae: 23.5705\n",
            "Epoch 32/100\n",
            "2/2 [==============================] - 0s 27ms/step - loss: 7.5984 - mae: 7.5984\n",
            "Epoch 33/100\n",
            "2/2 [==============================] - 0s 33ms/step - loss: 9.2956 - mae: 9.2956\n",
            "Epoch 34/100\n",
            "2/2 [==============================] - 0s 24ms/step - loss: 13.6695 - mae: 13.6695\n",
            "Epoch 35/100\n",
            "2/2 [==============================] - 0s 18ms/step - loss: 11.1473 - mae: 11.1473\n",
            "Epoch 36/100\n",
            "2/2 [==============================] - 0s 31ms/step - loss: 13.3745 - mae: 13.3745\n",
            "Epoch 37/100\n",
            "2/2 [==============================] - 0s 18ms/step - loss: 9.4413 - mae: 9.4413\n",
            "Epoch 38/100\n",
            "2/2 [==============================] - 0s 21ms/step - loss: 10.0923 - mae: 10.0923\n",
            "Epoch 39/100\n",
            "2/2 [==============================] - 0s 20ms/step - loss: 10.1993 - mae: 10.1993\n",
            "Epoch 40/100\n",
            "2/2 [==============================] - 0s 21ms/step - loss: 10.9462 - mae: 10.9462\n",
            "Epoch 41/100\n",
            "2/2 [==============================] - 0s 23ms/step - loss: 7.9204 - mae: 7.9204\n",
            "Epoch 42/100\n",
            "2/2 [==============================] - 0s 20ms/step - loss: 10.5703 - mae: 10.5703\n",
            "Epoch 43/100\n",
            "2/2 [==============================] - 0s 18ms/step - loss: 7.1997 - mae: 7.1997\n",
            "Epoch 44/100\n",
            "2/2 [==============================] - 0s 20ms/step - loss: 7.9859 - mae: 7.9859\n",
            "Epoch 45/100\n",
            "2/2 [==============================] - 0s 26ms/step - loss: 9.7777 - mae: 9.7777\n",
            "Epoch 46/100\n",
            "2/2 [==============================] - 0s 23ms/step - loss: 8.8538 - mae: 8.8538\n",
            "Epoch 47/100\n",
            "2/2 [==============================] - 0s 19ms/step - loss: 7.5630 - mae: 7.5630\n",
            "Epoch 48/100\n",
            "2/2 [==============================] - 0s 16ms/step - loss: 8.5684 - mae: 8.5684\n",
            "Epoch 49/100\n",
            "2/2 [==============================] - 0s 24ms/step - loss: 9.9822 - mae: 9.9822\n",
            "Epoch 50/100\n",
            "2/2 [==============================] - 0s 15ms/step - loss: 9.0210 - mae: 9.0210\n",
            "Epoch 51/100\n",
            "2/2 [==============================] - 0s 15ms/step - loss: 10.6510 - mae: 10.6510\n",
            "Epoch 52/100\n",
            "2/2 [==============================] - 0s 10ms/step - loss: 15.2930 - mae: 15.2930\n",
            "Epoch 53/100\n",
            "2/2 [==============================] - 0s 31ms/step - loss: 14.3136 - mae: 14.3136\n",
            "Epoch 54/100\n",
            "2/2 [==============================] - 0s 10ms/step - loss: 21.6174 - mae: 21.6174\n",
            "Epoch 55/100\n",
            "2/2 [==============================] - 0s 20ms/step - loss: 15.9772 - mae: 15.9772\n",
            "Epoch 56/100\n",
            "2/2 [==============================] - 0s 11ms/step - loss: 10.2868 - mae: 10.2868\n",
            "Epoch 57/100\n",
            "2/2 [==============================] - 0s 14ms/step - loss: 9.7527 - mae: 9.7527\n",
            "Epoch 58/100\n",
            "2/2 [==============================] - 0s 11ms/step - loss: 9.0387 - mae: 9.0387\n",
            "Epoch 59/100\n",
            "2/2 [==============================] - 0s 9ms/step - loss: 8.2448 - mae: 8.2448\n",
            "Epoch 60/100\n",
            "2/2 [==============================] - 0s 11ms/step - loss: 9.3414 - mae: 9.3414\n",
            "Epoch 61/100\n",
            "2/2 [==============================] - 0s 9ms/step - loss: 11.1471 - mae: 11.1471\n",
            "Epoch 62/100\n",
            "2/2 [==============================] - 0s 13ms/step - loss: 12.0757 - mae: 12.0757\n",
            "Epoch 63/100\n",
            "2/2 [==============================] - 0s 10ms/step - loss: 7.2585 - mae: 7.2585\n",
            "Epoch 64/100\n",
            "2/2 [==============================] - 0s 12ms/step - loss: 12.4170 - mae: 12.4170\n",
            "Epoch 65/100\n",
            "2/2 [==============================] - 0s 11ms/step - loss: 10.4830 - mae: 10.4830\n",
            "Epoch 66/100\n",
            "2/2 [==============================] - 0s 12ms/step - loss: 15.6092 - mae: 15.6092\n",
            "Epoch 67/100\n",
            "2/2 [==============================] - 0s 9ms/step - loss: 10.0071 - mae: 10.0071\n",
            "Epoch 68/100\n",
            "2/2 [==============================] - 0s 9ms/step - loss: 8.7133 - mae: 8.7133\n",
            "Epoch 69/100\n",
            "2/2 [==============================] - 0s 11ms/step - loss: 13.4853 - mae: 13.4853\n",
            "Epoch 70/100\n",
            "2/2 [==============================] - 0s 10ms/step - loss: 7.4574 - mae: 7.4574\n",
            "Epoch 71/100\n",
            "2/2 [==============================] - 0s 11ms/step - loss: 12.2099 - mae: 12.2099\n",
            "Epoch 72/100\n",
            "2/2 [==============================] - 0s 15ms/step - loss: 8.5261 - mae: 8.5261\n",
            "Epoch 73/100\n",
            "2/2 [==============================] - 0s 14ms/step - loss: 7.0286 - mae: 7.0286\n",
            "Epoch 74/100\n",
            "2/2 [==============================] - 0s 8ms/step - loss: 9.9276 - mae: 9.9276\n",
            "Epoch 75/100\n",
            "2/2 [==============================] - 0s 9ms/step - loss: 9.9221 - mae: 9.9221\n",
            "Epoch 76/100\n",
            "2/2 [==============================] - 0s 12ms/step - loss: 10.0896 - mae: 10.0896\n",
            "Epoch 77/100\n",
            "2/2 [==============================] - 0s 11ms/step - loss: 12.9366 - mae: 12.9366\n",
            "Epoch 78/100\n",
            "2/2 [==============================] - 0s 17ms/step - loss: 11.1425 - mae: 11.1425\n",
            "Epoch 79/100\n",
            "2/2 [==============================] - 0s 10ms/step - loss: 14.7006 - mae: 14.7006\n",
            "Epoch 80/100\n",
            "2/2 [==============================] - 0s 10ms/step - loss: 8.9112 - mae: 8.9112\n",
            "Epoch 81/100\n",
            "2/2 [==============================] - 0s 11ms/step - loss: 10.7515 - mae: 10.7515\n",
            "Epoch 82/100\n",
            "2/2 [==============================] - 0s 10ms/step - loss: 8.3840 - mae: 8.3840\n",
            "Epoch 83/100\n",
            "2/2 [==============================] - 0s 9ms/step - loss: 9.2097 - mae: 9.2097\n",
            "Epoch 84/100\n",
            "2/2 [==============================] - 0s 9ms/step - loss: 8.9296 - mae: 8.9296\n",
            "Epoch 85/100\n",
            "2/2 [==============================] - 0s 11ms/step - loss: 13.1850 - mae: 13.1850\n",
            "Epoch 86/100\n",
            "2/2 [==============================] - 0s 16ms/step - loss: 13.7024 - mae: 13.7024\n",
            "Epoch 87/100\n",
            "2/2 [==============================] - 0s 11ms/step - loss: 13.1867 - mae: 13.1867\n",
            "Epoch 88/100\n",
            "2/2 [==============================] - 0s 11ms/step - loss: 11.5118 - mae: 11.5118\n",
            "Epoch 89/100\n",
            "2/2 [==============================] - 0s 8ms/step - loss: 7.7948 - mae: 7.7948\n",
            "Epoch 90/100\n",
            "2/2 [==============================] - 0s 7ms/step - loss: 10.9249 - mae: 10.9249\n",
            "Epoch 91/100\n",
            "2/2 [==============================] - 0s 9ms/step - loss: 6.7379 - mae: 6.7379\n",
            "Epoch 92/100\n",
            "2/2 [==============================] - 0s 10ms/step - loss: 10.1175 - mae: 10.1175\n",
            "Epoch 93/100\n",
            "2/2 [==============================] - 0s 11ms/step - loss: 7.5947 - mae: 7.5947\n",
            "Epoch 94/100\n",
            "2/2 [==============================] - 0s 10ms/step - loss: 9.2263 - mae: 9.2263\n",
            "Epoch 95/100\n",
            "2/2 [==============================] - 0s 9ms/step - loss: 10.8130 - mae: 10.8130\n",
            "Epoch 96/100\n",
            "2/2 [==============================] - 0s 9ms/step - loss: 10.2918 - mae: 10.2918\n",
            "Epoch 97/100\n",
            "2/2 [==============================] - 0s 10ms/step - loss: 7.6656 - mae: 7.6656\n",
            "Epoch 98/100\n",
            "2/2 [==============================] - 0s 9ms/step - loss: 8.6010 - mae: 8.6010\n",
            "Epoch 99/100\n",
            "2/2 [==============================] - 0s 8ms/step - loss: 9.3787 - mae: 9.3787\n",
            "Epoch 100/100\n",
            "2/2 [==============================] - 0s 8ms/step - loss: 8.8262 - mae: 8.8262\n"
          ]
        },
        {
          "output_type": "execute_result",
          "data": {
            "text/plain": [
              "<keras.src.callbacks.History at 0x79aaecfdca90>"
            ]
          },
          "metadata": {},
          "execution_count": 42
        }
      ]
    },
    {
      "cell_type": "code",
      "source": [
        "# Make and plot predictions for model_1\n",
        "y_preds_1 = model_1.predict(X_test)\n",
        "plot_predictions(predictions=y_preds_1)"
      ],
      "metadata": {
        "colab": {
          "base_uri": "https://localhost:8080/",
          "height": 617
        },
        "id": "4D6GPkhiWEHU",
        "outputId": "46b66797-0c51-4992-a2ec-3765f4dfac1f"
      },
      "execution_count": 43,
      "outputs": [
        {
          "output_type": "stream",
          "name": "stdout",
          "text": [
            "1/1 [==============================] - 0s 60ms/step\n"
          ]
        },
        {
          "output_type": "display_data",
          "data": {
            "text/plain": [
              "<Figure size 1000x700 with 1 Axes>"
            ],
            "image/png": "[encoded data removed]"
          },
          "metadata": {}
        }
      ]
    },
    {
      "cell_type": "code",
      "source": [],
      "metadata": {
        "id": "daIkRd_MWc2A"
      },
      "execution_count": 47,
      "outputs": []
    },
    {
      "cell_type": "code",
      "source": [
        "mae = tf.metrics.mean_absolute_error(y_true=y_test,\n",
        "                                     y_pred=y_preds.squeeze()) # use squeeze() to make same shape\n",
        "mae"
      ],
      "metadata": {
        "colab": {
          "base_uri": "https://localhost:8080/"
        },
        "id": "8iuAdcHpWhr2",
        "outputId": "0ff7c49a-e779-4bee-c04a-e65451460b51"
      },
      "execution_count": 48,
      "outputs": [
        {
          "output_type": "execute_result",
          "data": {
            "text/plain": [
              "<tf.Tensor: shape=(), dtype=float32, numpy=46.238045>"
            ]
          },
          "metadata": {},
          "execution_count": 48
        }
      ]
    },
    {
      "cell_type": "code",
      "source": [
        "mse = tf.metrics.mean_squared_error(y_true=y_test,\n",
        "                                    y_pred=y_preds.squeeze())\n",
        "mse\n",
        ""
      ],
      "metadata": {
        "colab": {
          "base_uri": "https://localhost:8080/"
        },
        "id": "t4_i3xURW5oo",
        "outputId": "9dd574f1-91e3-42af-eecc-eda27bc50b0b"
      },
      "execution_count": 49,
      "outputs": [
        {
          "output_type": "execute_result",
          "data": {
            "text/plain": [
              "<tf.Tensor: shape=(), dtype=float32, numpy=2204.4211>"
            ]
          },
          "metadata": {},
          "execution_count": 49
        }
      ]
    },
    {
      "cell_type": "code",
      "source": [
        "#model_2\n",
        "#set seed\n",
        "tf.random.set_seed(42)\n",
        "\n",
        "#create model\n",
        "model_2 = tf.keras.Sequential([\n",
        "    tf.keras.layers.Dense(1),\n",
        "    tf.keras.layers.Dense(1)\n",
        "])\n",
        "\n",
        "#compile the model\n",
        "model_2.compile(\n",
        "    loss = tf.keras.losses.mae,\n",
        "    optimizer = tf.keras.optimizers.SGD(),\n",
        "    metrics = (['mae'])\n",
        ")\n",
        "\n",
        "#fit model\n",
        "model_2.fit(tf.expand_dims(X_train, axis=-1), y_train, epochs=100, verbose=0)"
      ],
      "metadata": {
        "colab": {
          "base_uri": "https://localhost:8080/"
        },
        "id": "PGu47ZcoW_Z-",
        "outputId": "b8e6dacb-68f4-4d68-806b-423eb1104f22"
      },
      "execution_count": 78,
      "outputs": [
        {
          "output_type": "execute_result",
          "data": {
            "text/plain": [
              "<keras.src.callbacks.History at 0x79aaedd1c220>"
            ]
          },
          "metadata": {},
          "execution_count": 78
        }
      ]
    },
    {
      "cell_type": "code",
      "source": [
        "y_pred_2 = model_2.predict(X_test)\n",
        "plot_predictions(predictions=y_pred_2)"
      ],
      "metadata": {
        "colab": {
          "base_uri": "https://localhost:8080/",
          "height": 617
        },
        "id": "CN0ruGEfanXj",
        "outputId": "bd6196f4-018a-4e86-9bd2-252f56faaaaa"
      },
      "execution_count": 79,
      "outputs": [
        {
          "output_type": "stream",
          "name": "stdout",
          "text": [
            "1/1 [==============================] - 0s 78ms/step\n"
          ]
        },
        {
          "output_type": "display_data",
          "data": {
            "text/plain": [
              "<Figure size 1000x700 with 1 Axes>"
            ],
            "image/png": "[encoded data removed]"
          },
          "metadata": {}
        }
      ]
    },
    {
      "cell_type": "code",
      "source": [],
      "metadata": {
        "id": "MMTpsMKwcCWJ"
      },
      "execution_count": null,
      "outputs": []
    }
  ]
}