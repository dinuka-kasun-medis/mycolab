{
  "nbformat": 4,
  "nbformat_minor": 0,
  "metadata": {
    "colab": {
      "provenance": [],
      "authorship_tag": "ABX9TyNEwSlRzVXfYUyzBENdfb4s",
      "include_colab_link": true
    },
    "kernelspec": {
      "name": "python3",
      "display_name": "Python 3"
    },
    "language_info": {
      "name": "python"
    }
  },
  "cells": [
    {
      "cell_type": "markdown",
      "metadata": {
        "id": "view-in-github",
        "colab_type": "text"
      },
      "source": [
        "<a href=\"https://colab.research.google.com/github/dinuka-kasun-medis/mycolab/blob/main/tensorflow_learning_chapter_3.ipynb\" target=\"_parent\"><img src=\"https://colab.research.google.com/assets/colab-badge.svg\" alt=\"Open In Colab\"/></a>"
      ]
    },
    {
      "cell_type": "code",
      "execution_count": 2,
      "metadata": {
        "colab": {
          "base_uri": "https://localhost:8080/"
        },
        "id": "CksWd_CDbwfG",
        "outputId": "eea902ba-b79d-4f04-8260-0d3485886d64"
      },
      "outputs": [
        {
          "output_type": "stream",
          "name": "stdout",
          "text": [
            "2.13.0\n"
          ]
        }
      ],
      "source": [
        "import tensorflow as tf\n",
        "print(tf.__version__)"
      ]
    },
    {
      "cell_type": "code",
      "source": [
        "import numpy as np\n",
        "import matplotlib.pyplot as plt\n",
        "\n",
        "#create feature\n",
        "X = np.array([-7.0, -4.0, -1.0, 2.0, 5.0, 8.0, 11.0, 14.0])\n",
        "\n",
        "# Create labels\n",
        "y = np.array([3.0, 6.0, 9.0, 12.0, 15.0, 18.0, 21.0, 24.0])\n",
        "\n",
        "# Visualize it\n",
        "plt.scatter(X, y);"
      ],
      "metadata": {
        "colab": {
          "base_uri": "https://localhost:8080/",
          "height": 435
        },
        "id": "JZUPoRW2cYTo",
        "outputId": "11026119-a542-4e8c-83ba-aa170749e0ab"
      },
      "execution_count": 3,
      "outputs": [
        {
          "output_type": "display_data",
          "data": {
            "text/plain": [
              "<Figure size 640x480 with 1 Axes>"
            ],
            "image/png": "[encoded data removed]"
          },
          "metadata": {}
        }
      ]
    },
    {
      "cell_type": "code",
      "source": [
        "house_info = tf.constant([\"bedroom\", \"bathroom\", \"garage\"])\n",
        "house_price = tf.constant([956780])\n",
        "house_info, house_price"
      ],
      "metadata": {
        "colab": {
          "base_uri": "https://localhost:8080/"
        },
        "id": "H78RapX0cvW7",
        "outputId": "9c99b8b1-497a-4e1c-fefb-c3ea466d7121"
      },
      "execution_count": 4,
      "outputs": [
        {
          "output_type": "execute_result",
          "data": {
            "text/plain": [
              "(<tf.Tensor: shape=(3,), dtype=string, numpy=array([b'bedroom', b'bathroom', b'garage'], dtype=object)>,\n",
              " <tf.Tensor: shape=(1,), dtype=int32, numpy=array([956780], dtype=int32)>)"
            ]
          },
          "metadata": {},
          "execution_count": 4
        }
      ]
    },
    {
      "cell_type": "code",
      "source": [
        "house_info.shape"
      ],
      "metadata": {
        "colab": {
          "base_uri": "https://localhost:8080/"
        },
        "id": "hXUzBR8LdSG-",
        "outputId": "4c1db305-0470-4b56-8605-ee4776e880e8"
      },
      "execution_count": 5,
      "outputs": [
        {
          "output_type": "execute_result",
          "data": {
            "text/plain": [
              "TensorShape([3])"
            ]
          },
          "metadata": {},
          "execution_count": 5
        }
      ]
    },
    {
      "cell_type": "code",
      "source": [
        "input_shape = X[0].shape\n",
        "output_shape = y[0].shape\n",
        "\n",
        "input_shape, output_shape"
      ],
      "metadata": {
        "colab": {
          "base_uri": "https://localhost:8080/"
        },
        "id": "i3tyrjrJdbcM",
        "outputId": "9900dd39-c63e-41e1-b4cc-bd50b94334c7"
      },
      "execution_count": 6,
      "outputs": [
        {
          "output_type": "execute_result",
          "data": {
            "text/plain": [
              "((), ())"
            ]
          },
          "metadata": {},
          "execution_count": 6
        }
      ]
    },
    {
      "cell_type": "code",
      "source": [
        "# Create features (using tensors)\n",
        "X = tf.constant([-7.0, -4.0, -1.0, 2.0, 5.0, 8.0, 11.0, 14.0])\n",
        "\n",
        "# Create labels (using tensors)\n",
        "y = tf.constant([3.0, 6.0, 9.0, 12.0, 15.0, 18.0, 21.0, 24.0])\n",
        "\n",
        "# Visualize it\n",
        "plt.scatter(X, y);"
      ],
      "metadata": {
        "colab": {
          "base_uri": "https://localhost:8080/",
          "height": 435
        },
        "id": "0AhcA-3QdsR_",
        "outputId": "ce561879-ab95-4a2e-8de1-1d312004d90d"
      },
      "execution_count": 7,
      "outputs": [
        {
          "output_type": "display_data",
          "data": {
            "text/plain": [
              "<Figure size 640x480 with 1 Axes>"
            ],
            "image/png": "[encoded data removed]"
          },
          "metadata": {}
        }
      ]
    },
    {
      "cell_type": "code",
      "source": [
        "X[0], y[0]"
      ],
      "metadata": {
        "colab": {
          "base_uri": "https://localhost:8080/"
        },
        "id": "_-QL7pBGe8S0",
        "outputId": "d0d6a676-87be-4684-fc8b-af892eb09f65"
      },
      "execution_count": 8,
      "outputs": [
        {
          "output_type": "execute_result",
          "data": {
            "text/plain": [
              "(<tf.Tensor: shape=(), dtype=float32, numpy=-7.0>,\n",
              " <tf.Tensor: shape=(), dtype=float32, numpy=3.0>)"
            ]
          },
          "metadata": {},
          "execution_count": 8
        }
      ]
    },
    {
      "cell_type": "code",
      "source": [
        "input_shape = X[0].shape\n",
        "output_shape = y[0].shape\n",
        "\n",
        "input_shape, output_shape"
      ],
      "metadata": {
        "colab": {
          "base_uri": "https://localhost:8080/"
        },
        "id": "5F0heTI6e9Oi",
        "outputId": "5ab00e14-d0cb-43a3-9698-0d27bce016de"
      },
      "execution_count": 9,
      "outputs": [
        {
          "output_type": "execute_result",
          "data": {
            "text/plain": [
              "(TensorShape([]), TensorShape([]))"
            ]
          },
          "metadata": {},
          "execution_count": 9
        }
      ]
    },
    {
      "cell_type": "code",
      "source": [
        "#set random seed\n",
        "tf.random.set_seed(42)\n",
        "\n",
        "#create a model using a Sequntial API\n",
        "model = tf.keras.Sequential([\n",
        "    tf.keras.layers.Dense(1)\n",
        "])\n",
        "#compile the model\n",
        "model.compile(\n",
        "    loss = tf.keras.losses.mae, #mean absolute error\n",
        "    optimizer = tf.keras.optimizers.SGD(), #stochastic gradient descent\n",
        "    metrics = [\"mae\"]\n",
        ")\n",
        "\n",
        "#fit the model\n",
        "model.fit(tf.expand_dims(X, axis=-1), y, epochs=5)\n",
        ""
      ],
      "metadata": {
        "colab": {
          "base_uri": "https://localhost:8080/"
        },
        "id": "x_kzjQ59fEFK",
        "outputId": "1433fb20-3a19-4fcc-f8eb-6b7bf574fcd2"
      },
      "execution_count": 11,
      "outputs": [
        {
          "output_type": "stream",
          "name": "stdout",
          "text": [
            "Epoch 1/5\n",
            "1/1 [==============================] - 1s 527ms/step - loss: 9.3897 - mae: 9.3897\n",
            "Epoch 2/5\n",
            "1/1 [==============================] - 0s 10ms/step - loss: 9.2572 - mae: 9.2572\n",
            "Epoch 3/5\n",
            "1/1 [==============================] - 0s 10ms/step - loss: 9.1247 - mae: 9.1247\n",
            "Epoch 4/5\n",
            "1/1 [==============================] - 0s 9ms/step - loss: 8.9922 - mae: 8.9922\n",
            "Epoch 5/5\n",
            "1/1 [==============================] - 0s 8ms/step - loss: 8.8597 - mae: 8.8597\n"
          ]
        },
        {
          "output_type": "execute_result",
          "data": {
            "text/plain": [
              "<keras.src.callbacks.History at 0x7bc987671000>"
            ]
          },
          "metadata": {},
          "execution_count": 11
        }
      ]
    },
    {
      "cell_type": "code",
      "source": [
        "\n",
        "# Check out X and y\n",
        "X, y"
      ],
      "metadata": {
        "colab": {
          "base_uri": "https://localhost:8080/"
        },
        "id": "0L_Opnrmgrpb",
        "outputId": "7866b694-ed7b-4c74-c847-25be48458cf6"
      },
      "execution_count": 12,
      "outputs": [
        {
          "output_type": "execute_result",
          "data": {
            "text/plain": [
              "(<tf.Tensor: shape=(8,), dtype=float32, numpy=array([-7., -4., -1.,  2.,  5.,  8., 11., 14.], dtype=float32)>,\n",
              " <tf.Tensor: shape=(8,), dtype=float32, numpy=array([ 3.,  6.,  9., 12., 15., 18., 21., 24.], dtype=float32)>)"
            ]
          },
          "metadata": {},
          "execution_count": 12
        }
      ]
    },
    {
      "cell_type": "code",
      "source": [
        "model.predict([17.0])"
      ],
      "metadata": {
        "colab": {
          "base_uri": "https://localhost:8080/"
        },
        "id": "dBqLq2WU89CZ",
        "outputId": "032e1166-dc21-414b-cc50-9e4b454e5a05"
      },
      "execution_count": 13,
      "outputs": [
        {
          "output_type": "stream",
          "name": "stdout",
          "text": [
            "1/1 [==============================] - 0s 281ms/step\n"
          ]
        },
        {
          "output_type": "execute_result",
          "data": {
            "text/plain": [
              "array([[22.989378]], dtype=float32)"
            ]
          },
          "metadata": {},
          "execution_count": 13
        }
      ]
    },
    {
      "cell_type": "code",
      "source": [
        "#set random seed\n",
        "tf.random.set_seed(42)\n",
        "\n",
        "#create the model\n",
        "model = tf.keras.Sequential([\n",
        "    tf.keras.layers.Dense(1)\n",
        "])\n",
        "\n",
        "#compile the model\n",
        "model.compile(\n",
        "    loss = tf.keras.losses.mae,\n",
        "    optimizer = tf.keras.optimizers.SGD(),\n",
        "    metrics = [\"mae\"]\n",
        ")\n",
        "\n",
        "#fit the model\n",
        "model.fit(tf.expand_dims(X, axis=-1), y, epochs = 100)"
      ],
      "metadata": {
        "colab": {
          "base_uri": "https://localhost:8080/"
        },
        "id": "SURnV6lC8_fI",
        "outputId": "a15bd23f-b0f6-45c1-f188-d1226969a57a"
      },
      "execution_count": 19,
      "outputs": [
        {
          "output_type": "stream",
          "name": "stdout",
          "text": [
            "Epoch 1/100\n",
            "1/1 [==============================] - 0s 483ms/step - loss: 17.7573 - mae: 17.7573\n",
            "Epoch 2/100\n",
            "1/1 [==============================] - 0s 15ms/step - loss: 17.4760 - mae: 17.4760\n",
            "Epoch 3/100\n",
            "1/1 [==============================] - 0s 16ms/step - loss: 17.1948 - mae: 17.1948\n",
            "Epoch 4/100\n",
            "1/1 [==============================] - 0s 14ms/step - loss: 16.9135 - mae: 16.9135\n",
            "Epoch 5/100\n",
            "1/1 [==============================] - 0s 12ms/step - loss: 16.6323 - mae: 16.6323\n",
            "Epoch 6/100\n",
            "1/1 [==============================] - 0s 10ms/step - loss: 16.3510 - mae: 16.3510\n",
            "Epoch 7/100\n",
            "1/1 [==============================] - 0s 11ms/step - loss: 16.0698 - mae: 16.0698\n",
            "Epoch 8/100\n",
            "1/1 [==============================] - 0s 13ms/step - loss: 15.7885 - mae: 15.7885\n",
            "Epoch 9/100\n",
            "1/1 [==============================] - 0s 9ms/step - loss: 15.5073 - mae: 15.5073\n",
            "Epoch 10/100\n",
            "1/1 [==============================] - 0s 10ms/step - loss: 15.2260 - mae: 15.2260\n",
            "Epoch 11/100\n",
            "1/1 [==============================] - 0s 14ms/step - loss: 14.9448 - mae: 14.9448\n",
            "Epoch 12/100\n",
            "1/1 [==============================] - 0s 13ms/step - loss: 14.7344 - mae: 14.7344\n",
            "Epoch 13/100\n",
            "1/1 [==============================] - 0s 11ms/step - loss: 14.6019 - mae: 14.6019\n",
            "Epoch 14/100\n",
            "1/1 [==============================] - 0s 12ms/step - loss: 14.4694 - mae: 14.4694\n",
            "Epoch 15/100\n",
            "1/1 [==============================] - 0s 12ms/step - loss: 14.3369 - mae: 14.3369\n",
            "Epoch 16/100\n",
            "1/1 [==============================] - 0s 13ms/step - loss: 14.2044 - mae: 14.2044\n",
            "Epoch 17/100\n",
            "1/1 [==============================] - 0s 12ms/step - loss: 14.0719 - mae: 14.0719\n",
            "Epoch 18/100\n",
            "1/1 [==============================] - 0s 12ms/step - loss: 13.9394 - mae: 13.9394\n",
            "Epoch 19/100\n",
            "1/1 [==============================] - 0s 15ms/step - loss: 13.8069 - mae: 13.8069\n",
            "Epoch 20/100\n",
            "1/1 [==============================] - 0s 12ms/step - loss: 13.6744 - mae: 13.6744\n",
            "Epoch 21/100\n",
            "1/1 [==============================] - 0s 10ms/step - loss: 13.5419 - mae: 13.5419\n",
            "Epoch 22/100\n",
            "1/1 [==============================] - 0s 10ms/step - loss: 13.4094 - mae: 13.4094\n",
            "Epoch 23/100\n",
            "1/1 [==============================] - 0s 9ms/step - loss: 13.2769 - mae: 13.2769\n",
            "Epoch 24/100\n",
            "1/1 [==============================] - 0s 13ms/step - loss: 13.1444 - mae: 13.1444\n",
            "Epoch 25/100\n",
            "1/1 [==============================] - 0s 10ms/step - loss: 13.0119 - mae: 13.0119\n",
            "Epoch 26/100\n",
            "1/1 [==============================] - 0s 11ms/step - loss: 12.8794 - mae: 12.8794\n",
            "Epoch 27/100\n",
            "1/1 [==============================] - 0s 11ms/step - loss: 12.7469 - mae: 12.7469\n",
            "Epoch 28/100\n",
            "1/1 [==============================] - 0s 10ms/step - loss: 12.6144 - mae: 12.6144\n",
            "Epoch 29/100\n",
            "1/1 [==============================] - 0s 11ms/step - loss: 12.4819 - mae: 12.4819\n",
            "Epoch 30/100\n",
            "1/1 [==============================] - 0s 10ms/step - loss: 12.3494 - mae: 12.3494\n",
            "Epoch 31/100\n",
            "1/1 [==============================] - 0s 10ms/step - loss: 12.2169 - mae: 12.2169\n",
            "Epoch 32/100\n",
            "1/1 [==============================] - 0s 14ms/step - loss: 12.0844 - mae: 12.0844\n",
            "Epoch 33/100\n",
            "1/1 [==============================] - 0s 10ms/step - loss: 11.9519 - mae: 11.9519\n",
            "Epoch 34/100\n",
            "1/1 [==============================] - 0s 10ms/step - loss: 11.8194 - mae: 11.8194\n",
            "Epoch 35/100\n",
            "1/1 [==============================] - 0s 9ms/step - loss: 11.6869 - mae: 11.6869\n",
            "Epoch 36/100\n",
            "1/1 [==============================] - 0s 12ms/step - loss: 11.5544 - mae: 11.5544\n",
            "Epoch 37/100\n",
            "1/1 [==============================] - 0s 12ms/step - loss: 11.4219 - mae: 11.4219\n",
            "Epoch 38/100\n",
            "1/1 [==============================] - 0s 14ms/step - loss: 11.2894 - mae: 11.2894\n",
            "Epoch 39/100\n",
            "1/1 [==============================] - 0s 11ms/step - loss: 11.1569 - mae: 11.1569\n",
            "Epoch 40/100\n",
            "1/1 [==============================] - 0s 13ms/step - loss: 11.0244 - mae: 11.0244\n",
            "Epoch 41/100\n",
            "1/1 [==============================] - 0s 15ms/step - loss: 10.8919 - mae: 10.8919\n",
            "Epoch 42/100\n",
            "1/1 [==============================] - 0s 13ms/step - loss: 10.7594 - mae: 10.7594\n",
            "Epoch 43/100\n",
            "1/1 [==============================] - 0s 9ms/step - loss: 10.6269 - mae: 10.6269\n",
            "Epoch 44/100\n",
            "1/1 [==============================] - 0s 11ms/step - loss: 10.4944 - mae: 10.4944\n",
            "Epoch 45/100\n",
            "1/1 [==============================] - 0s 13ms/step - loss: 10.3619 - mae: 10.3619\n",
            "Epoch 46/100\n",
            "1/1 [==============================] - 0s 14ms/step - loss: 10.2294 - mae: 10.2294\n",
            "Epoch 47/100\n",
            "1/1 [==============================] - 0s 12ms/step - loss: 10.0969 - mae: 10.0969\n",
            "Epoch 48/100\n",
            "1/1 [==============================] - 0s 12ms/step - loss: 9.9644 - mae: 9.9644\n",
            "Epoch 49/100\n",
            "1/1 [==============================] - 0s 14ms/step - loss: 9.8319 - mae: 9.8319\n",
            "Epoch 50/100\n",
            "1/1 [==============================] - 0s 13ms/step - loss: 9.6994 - mae: 9.6994\n",
            "Epoch 51/100\n",
            "1/1 [==============================] - 0s 12ms/step - loss: 9.5669 - mae: 9.5669\n",
            "Epoch 52/100\n",
            "1/1 [==============================] - 0s 12ms/step - loss: 9.4344 - mae: 9.4344\n",
            "Epoch 53/100\n",
            "1/1 [==============================] - 0s 13ms/step - loss: 9.3019 - mae: 9.3019\n",
            "Epoch 54/100\n",
            "1/1 [==============================] - 0s 12ms/step - loss: 9.1694 - mae: 9.1694\n",
            "Epoch 55/100\n",
            "1/1 [==============================] - 0s 10ms/step - loss: 9.0369 - mae: 9.0369\n",
            "Epoch 56/100\n",
            "1/1 [==============================] - 0s 13ms/step - loss: 8.9044 - mae: 8.9044\n",
            "Epoch 57/100\n",
            "1/1 [==============================] - 0s 12ms/step - loss: 8.7719 - mae: 8.7719\n",
            "Epoch 58/100\n",
            "1/1 [==============================] - 0s 11ms/step - loss: 8.6394 - mae: 8.6394\n",
            "Epoch 59/100\n",
            "1/1 [==============================] - 0s 13ms/step - loss: 8.5069 - mae: 8.5069\n",
            "Epoch 60/100\n",
            "1/1 [==============================] - 0s 10ms/step - loss: 8.3744 - mae: 8.3744\n",
            "Epoch 61/100\n",
            "1/1 [==============================] - 0s 14ms/step - loss: 8.2419 - mae: 8.2419\n",
            "Epoch 62/100\n",
            "1/1 [==============================] - 0s 14ms/step - loss: 8.1094 - mae: 8.1094\n",
            "Epoch 63/100\n",
            "1/1 [==============================] - 0s 11ms/step - loss: 7.9769 - mae: 7.9769\n",
            "Epoch 64/100\n",
            "1/1 [==============================] - 0s 13ms/step - loss: 7.8444 - mae: 7.8444\n",
            "Epoch 65/100\n",
            "1/1 [==============================] - 0s 10ms/step - loss: 7.7119 - mae: 7.7119\n",
            "Epoch 66/100\n",
            "1/1 [==============================] - 0s 9ms/step - loss: 7.5794 - mae: 7.5794\n",
            "Epoch 67/100\n",
            "1/1 [==============================] - 0s 12ms/step - loss: 7.4469 - mae: 7.4469\n",
            "Epoch 68/100\n",
            "1/1 [==============================] - 0s 11ms/step - loss: 7.3144 - mae: 7.3144\n",
            "Epoch 69/100\n",
            "1/1 [==============================] - 0s 11ms/step - loss: 7.1819 - mae: 7.1819\n",
            "Epoch 70/100\n",
            "1/1 [==============================] - 0s 13ms/step - loss: 7.0494 - mae: 7.0494\n",
            "Epoch 71/100\n",
            "1/1 [==============================] - 0s 10ms/step - loss: 6.9956 - mae: 6.9956\n",
            "Epoch 72/100\n",
            "1/1 [==============================] - 0s 13ms/step - loss: 6.9900 - mae: 6.9900\n",
            "Epoch 73/100\n",
            "1/1 [==============================] - 0s 14ms/step - loss: 6.9844 - mae: 6.9844\n",
            "Epoch 74/100\n",
            "1/1 [==============================] - 0s 11ms/step - loss: 6.9788 - mae: 6.9788\n",
            "Epoch 75/100\n",
            "1/1 [==============================] - 0s 13ms/step - loss: 6.9731 - mae: 6.9731\n",
            "Epoch 76/100\n",
            "1/1 [==============================] - 0s 14ms/step - loss: 6.9675 - mae: 6.9675\n",
            "Epoch 77/100\n",
            "1/1 [==============================] - 0s 12ms/step - loss: 6.9619 - mae: 6.9619\n",
            "Epoch 78/100\n",
            "1/1 [==============================] - 0s 11ms/step - loss: 6.9563 - mae: 6.9563\n",
            "Epoch 79/100\n",
            "1/1 [==============================] - 0s 11ms/step - loss: 6.9506 - mae: 6.9506\n",
            "Epoch 80/100\n",
            "1/1 [==============================] - 0s 12ms/step - loss: 6.9450 - mae: 6.9450\n",
            "Epoch 81/100\n",
            "1/1 [==============================] - 0s 13ms/step - loss: 6.9394 - mae: 6.9394\n",
            "Epoch 82/100\n",
            "1/1 [==============================] - 0s 9ms/step - loss: 6.9338 - mae: 6.9338\n",
            "Epoch 83/100\n",
            "1/1 [==============================] - 0s 12ms/step - loss: 6.9281 - mae: 6.9281\n",
            "Epoch 84/100\n",
            "1/1 [==============================] - 0s 12ms/step - loss: 6.9225 - mae: 6.9225\n",
            "Epoch 85/100\n",
            "1/1 [==============================] - 0s 11ms/step - loss: 6.9169 - mae: 6.9169\n",
            "Epoch 86/100\n",
            "1/1 [==============================] - 0s 13ms/step - loss: 6.9113 - mae: 6.9113\n",
            "Epoch 87/100\n",
            "1/1 [==============================] - 0s 11ms/step - loss: 6.9056 - mae: 6.9056\n",
            "Epoch 88/100\n",
            "1/1 [==============================] - 0s 13ms/step - loss: 6.9000 - mae: 6.9000\n",
            "Epoch 89/100\n",
            "1/1 [==============================] - 0s 11ms/step - loss: 6.8944 - mae: 6.8944\n",
            "Epoch 90/100\n",
            "1/1 [==============================] - 0s 10ms/step - loss: 6.8888 - mae: 6.8888\n",
            "Epoch 91/100\n",
            "1/1 [==============================] - 0s 12ms/step - loss: 6.8831 - mae: 6.8831\n",
            "Epoch 92/100\n",
            "1/1 [==============================] - 0s 12ms/step - loss: 6.8775 - mae: 6.8775\n",
            "Epoch 93/100\n",
            "1/1 [==============================] - 0s 12ms/step - loss: 6.8719 - mae: 6.8719\n",
            "Epoch 94/100\n",
            "1/1 [==============================] - 0s 14ms/step - loss: 6.8663 - mae: 6.8663\n",
            "Epoch 95/100\n",
            "1/1 [==============================] - 0s 12ms/step - loss: 6.8606 - mae: 6.8606\n",
            "Epoch 96/100\n",
            "1/1 [==============================] - 0s 13ms/step - loss: 6.8550 - mae: 6.8550\n",
            "Epoch 97/100\n",
            "1/1 [==============================] - 0s 14ms/step - loss: 6.8494 - mae: 6.8494\n",
            "Epoch 98/100\n",
            "1/1 [==============================] - 0s 14ms/step - loss: 6.8438 - mae: 6.8438\n",
            "Epoch 99/100\n",
            "1/1 [==============================] - 0s 11ms/step - loss: 6.8381 - mae: 6.8381\n",
            "Epoch 100/100\n",
            "1/1 [==============================] - 0s 11ms/step - loss: 6.8325 - mae: 6.8325\n"
          ]
        },
        {
          "output_type": "execute_result",
          "data": {
            "text/plain": [
              "<keras.src.callbacks.History at 0x7bc9768dedd0>"
            ]
          },
          "metadata": {},
          "execution_count": 19
        }
      ]
    },
    {
      "cell_type": "code",
      "source": [
        "X, y"
      ],
      "metadata": {
        "colab": {
          "base_uri": "https://localhost:8080/"
        },
        "id": "qJ3JKIi5A7bR",
        "outputId": "33db2197-0d0a-4e53-e6ab-a3b32b7c8579"
      },
      "execution_count": 20,
      "outputs": [
        {
          "output_type": "execute_result",
          "data": {
            "text/plain": [
              "(<tf.Tensor: shape=(8,), dtype=float32, numpy=array([-7., -4., -1.,  2.,  5.,  8., 11., 14.], dtype=float32)>,\n",
              " <tf.Tensor: shape=(8,), dtype=float32, numpy=array([ 3.,  6.,  9., 12., 15., 18., 21., 24.], dtype=float32)>)"
            ]
          },
          "metadata": {},
          "execution_count": 20
        }
      ]
    },
    {
      "cell_type": "code",
      "source": [
        "model.predict([17.0])"
      ],
      "metadata": {
        "colab": {
          "base_uri": "https://localhost:8080/"
        },
        "id": "FXoWqk9lB8tX",
        "outputId": "3cafb840-ed07-46a6-e261-fb2d91a7148d"
      },
      "execution_count": 21,
      "outputs": [
        {
          "output_type": "stream",
          "name": "stdout",
          "text": [
            "1/1 [==============================] - 0s 95ms/step\n"
          ]
        },
        {
          "output_type": "execute_result",
          "data": {
            "text/plain": [
              "array([[29.605917]], dtype=float32)"
            ]
          },
          "metadata": {},
          "execution_count": 21
        }
      ]
    },
    {
      "cell_type": "code",
      "source": [
        "#make a bigger data set\n",
        "X = np.arange(-100, 100, 4)\n",
        "X"
      ],
      "metadata": {
        "colab": {
          "base_uri": "https://localhost:8080/"
        },
        "id": "5DoUmVhCCBdB",
        "outputId": "9a1c3cea-6b21-44cf-f766-c6db19c2fa57"
      },
      "execution_count": 23,
      "outputs": [
        {
          "output_type": "execute_result",
          "data": {
            "text/plain": [
              "array([-100,  -96,  -92,  -88,  -84,  -80,  -76,  -72,  -68,  -64,  -60,\n",
              "        -56,  -52,  -48,  -44,  -40,  -36,  -32,  -28,  -24,  -20,  -16,\n",
              "        -12,   -8,   -4,    0,    4,    8,   12,   16,   20,   24,   28,\n",
              "         32,   36,   40,   44,   48,   52,   56,   60,   64,   68,   72,\n",
              "         76,   80,   84,   88,   92,   96])"
            ]
          },
          "metadata": {},
          "execution_count": 23
        }
      ]
    },
    {
      "cell_type": "code",
      "source": [
        "#make labels for the dataset\n",
        "y = np.arange(-90, 110, 4)\n",
        "y"
      ],
      "metadata": {
        "colab": {
          "base_uri": "https://localhost:8080/"
        },
        "id": "ZcMdPAIMDvMe",
        "outputId": "1dd25a94-2732-4859-eeca-533343f5e08f"
      },
      "execution_count": 24,
      "outputs": [
        {
          "output_type": "execute_result",
          "data": {
            "text/plain": [
              "array([-90, -86, -82, -78, -74, -70, -66, -62, -58, -54, -50, -46, -42,\n",
              "       -38, -34, -30, -26, -22, -18, -14, -10,  -6,  -2,   2,   6,  10,\n",
              "        14,  18,  22,  26,  30,  34,  38,  42,  46,  50,  54,  58,  62,\n",
              "        66,  70,  74,  78,  82,  86,  90,  94,  98, 102, 106])"
            ]
          },
          "metadata": {},
          "execution_count": 24
        }
      ]
    },
    {
      "cell_type": "code",
      "source": [],
      "metadata": {
        "id": "uCDL0hrYEFOJ"
      },
      "execution_count": null,
      "outputs": []
    }
  ]
}